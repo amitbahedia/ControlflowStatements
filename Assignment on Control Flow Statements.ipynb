{
 "cells": [
  {
   "cell_type": "markdown",
   "id": "7150d230-d59d-4539-8e96-19af56f47dea",
   "metadata": {},
   "source": [
    "Basic Level "
   ]
  },
  {
   "cell_type": "code",
   "execution_count": 1,
   "id": "682c81df-1e70-4f4b-a86d-128dcc924bdb",
   "metadata": {},
   "outputs": [],
   "source": [
    "##  Write a Python program that checks if a given number is positive, negative, or zero."
   ]
  },
  {
   "cell_type": "code",
   "execution_count": 4,
   "id": "92c232d5-8cc2-481a-aa0f-ef152688e17d",
   "metadata": {},
   "outputs": [
    {
     "name": "stdin",
     "output_type": "stream",
     "text": [
      "Enter the number 0\n"
     ]
    },
    {
     "name": "stdout",
     "output_type": "stream",
     "text": [
      "Number is zero\n"
     ]
    }
   ],
   "source": [
    "Number = int(input(\"Enter the number\"))\n",
    "if Number > 0:\n",
    "    print(\"It is positive\")\n",
    "elif Number < 0:\n",
    "    print(\"it is negative\")\n",
    "else:\n",
    "    print(\"Number is zero\")"
   ]
  },
  {
   "cell_type": "code",
   "execution_count": 5,
   "id": "fdae682e-a5ee-42a3-ae39-f3e341644cb1",
   "metadata": {},
   "outputs": [],
   "source": [
    "## Create a program to determine if a person is eligible to vote based on their age"
   ]
  },
  {
   "cell_type": "code",
   "execution_count": 8,
   "id": "212e4356-a017-4c73-9024-0b09add7095a",
   "metadata": {},
   "outputs": [
    {
     "name": "stdin",
     "output_type": "stream",
     "text": [
      "Enter the age 23\n"
     ]
    },
    {
     "name": "stdout",
     "output_type": "stream",
     "text": [
      "person is eligible to vote\n"
     ]
    }
   ],
   "source": [
    "Age = int(input(\"Enter the age\"))\n",
    "if Age >= 18:\n",
    "    print(\"person is eligible to vote\")\n",
    "else:\n",
    "    print(\"person is not eleigible to vote\")\n",
    "    "
   ]
  },
  {
   "cell_type": "code",
   "execution_count": 9,
   "id": "078b5c1e-63e0-4f31-8644-656f09704541",
   "metadata": {},
   "outputs": [],
   "source": [
    "## Write a program to find the maximum of two given numbers using conditional statements."
   ]
  },
  {
   "cell_type": "code",
   "execution_count": 12,
   "id": "a1c690ea-84a2-431b-9528-7d714dba0d6b",
   "metadata": {},
   "outputs": [
    {
     "name": "stdin",
     "output_type": "stream",
     "text": [
      "Enter the first number 4\n",
      "Enter the second number 8\n"
     ]
    },
    {
     "name": "stdout",
     "output_type": "stream",
     "text": [
      "second number os greater\n"
     ]
    }
   ],
   "source": [
    "num1 = int(input(\"Enter the first number\"))\n",
    "num2 = int(input(\"Enter the second number\"))\n",
    "if num1 == num2:\n",
    "    print(\"Both are equal\")\n",
    "elif num1 > num2:\n",
    "    print(\"First Number is greater\")\n",
    "else:\n",
    "    print(\"second number is greater\")"
   ]
  },
  {
   "cell_type": "code",
   "execution_count": 13,
   "id": "a245d169-3256-4961-9400-3af9a2107de5",
   "metadata": {},
   "outputs": [],
   "source": [
    "##  Develop a program that calculates the grade of a student based on their exam score"
   ]
  },
  {
   "cell_type": "code",
   "execution_count": 20,
   "id": "28c8ec79-a8b3-464f-922e-a9568d1bc835",
   "metadata": {},
   "outputs": [
    {
     "name": "stdin",
     "output_type": "stream",
     "text": [
      "Enter the score 78\n"
     ]
    },
    {
     "name": "stdout",
     "output_type": "stream",
     "text": [
      "Grade is B\n"
     ]
    }
   ],
   "source": [
    "score = int(input(\"Enter the score\"))\n",
    "if score >= 90:\n",
    "    print(\"Grade is A\")\n",
    "elif score < 90 and score > 75:\n",
    "    print(\"Grade is B\")\n",
    "elif score < 75 and score > 60:\n",
    "    print(\"Grade is C\")\n",
    "else:\n",
    "    print(\"Student is fail\")"
   ]
  },
  {
   "cell_type": "code",
   "execution_count": 21,
   "id": "a797a52a-9d29-4e6e-88d6-40b63ab35c86",
   "metadata": {},
   "outputs": [],
   "source": [
    "##  Create a program that checks if a year is a leap year or not."
   ]
  },
  {
   "cell_type": "code",
   "execution_count": 27,
   "id": "a86afdfc-2d68-42c7-9bf3-cd6931a30d84",
   "metadata": {},
   "outputs": [
    {
     "name": "stdin",
     "output_type": "stream",
     "text": [
      "Enter the year 2024\n"
     ]
    },
    {
     "name": "stdout",
     "output_type": "stream",
     "text": [
      "it is a leap year\n"
     ]
    }
   ],
   "source": [
    "year = int(input(\"Enter the year\"))\n",
    "if (year%4==0 and year%100!=0) or (year%400==0):\n",
    "    print(\"it is a leap year\")\n",
    "else:\n",
    "    print(\"It is not a leap year\")"
   ]
  },
  {
   "cell_type": "code",
   "execution_count": 28,
   "id": "d367772a-9a8d-4263-aab3-c0b1ed82c8cf",
   "metadata": {},
   "outputs": [],
   "source": [
    "## Write a program to classify a triangle based on its sides' lengths."
   ]
  },
  {
   "cell_type": "code",
   "execution_count": 36,
   "id": "0d30511a-b846-4ed8-8858-43dc5e7b95fa",
   "metadata": {},
   "outputs": [
    {
     "name": "stdin",
     "output_type": "stream",
     "text": [
      "Enter the first side of the traingle 1\n",
      "Enter the second side of the traingle 2\n",
      "Enter the third side of the traingle 2\n"
     ]
    },
    {
     "name": "stdout",
     "output_type": "stream",
     "text": [
      "It is Isosceles Triangle\n"
     ]
    }
   ],
   "source": [
    "side1 = int(input(\"Enter the first side of the traingle\"))\n",
    "side2 = int(input(\"Enter the second side of the traingle\"))\n",
    "side3 = int(input(\"Enter the third side of the traingle\"))\n",
    "if side1!=side2!=side3:\n",
    "    print(\"it is a Scalene Triangle\")\n",
    "elif side1==side2==side3:\n",
    "    print(\"it is Equilateral Triangle\")\n",
    "elif (side1 == side2) or (side2 == side3) or (side1 == side3):\n",
    "    print(\"It is Isosceles Triangle\")"
   ]
  },
  {
   "cell_type": "code",
   "execution_count": 37,
   "id": "24b78652-0325-47ef-9f74-b956d479f1ca",
   "metadata": {},
   "outputs": [],
   "source": [
    "## Build a program that determines the largest of three given numbers."
   ]
  },
  {
   "cell_type": "code",
   "execution_count": 41,
   "id": "fbf5aad9-7e0c-4662-9417-d768ba9f4731",
   "metadata": {},
   "outputs": [
    {
     "name": "stdin",
     "output_type": "stream",
     "text": [
      "Enter the first number 23\n",
      "Enter the second number 34\n",
      "Enter the third number 56\n"
     ]
    },
    {
     "name": "stdout",
     "output_type": "stream",
     "text": [
      "Third number is greater\n"
     ]
    }
   ],
   "source": [
    "First_Num = int(input(\"Enter the first number\"))\n",
    "Second_Num = int(input(\"Enter the second number\"))\n",
    "Third_Num = int(input(\"Enter the third number\"))\n",
    "\n",
    "if (First_Num > Second_Num) and (First_Num > Third_Num):\n",
    "    print(\"First number is greater\")\n",
    "elif (Second_Num > First_Num) and (Second_Num > Third_Num):\n",
    "    print(\"Second number is greater\")\n",
    "else:\n",
    "    print(\"Third number is greater\")"
   ]
  },
  {
   "cell_type": "code",
   "execution_count": 42,
   "id": "b00ff6e7-60dd-4ebb-85c4-248597678a53",
   "metadata": {},
   "outputs": [],
   "source": [
    "## Develop a program that checks whether a character is a vowel or a consonant"
   ]
  },
  {
   "cell_type": "code",
   "execution_count": 57,
   "id": "6183aacc-5194-498f-b6bc-eb675ace6498",
   "metadata": {},
   "outputs": [
    {
     "name": "stdin",
     "output_type": "stream",
     "text": [
      "Enter the Character U\n"
     ]
    },
    {
     "name": "stdout",
     "output_type": "stream",
     "text": [
      "It is a vowel\n"
     ]
    }
   ],
   "source": [
    "Vowels = \"AEIOUaeiou\"\n",
    "Char = input(\"Enter the Character\")\n",
    "if Char in Vowels:\n",
    "    print(\"It is a vowel\")\n",
    "else:\n",
    "    print(\"It is a consonant\")\n",
    "    "
   ]
  },
  {
   "cell_type": "code",
   "execution_count": 58,
   "id": "df912fb8-2a36-4063-be26-f72ee710af8f",
   "metadata": {},
   "outputs": [],
   "source": [
    "##  Create a program to calculate the total cost of a shopping cart based on discounts"
   ]
  },
  {
   "cell_type": "code",
   "execution_count": 64,
   "id": "2ec5162b-efae-44fb-879c-4701e3588b46",
   "metadata": {},
   "outputs": [
    {
     "name": "stdin",
     "output_type": "stream",
     "text": [
      "Enter the cost of the product in rupees 340\n",
      "Enter the discount 10\n"
     ]
    },
    {
     "name": "stdout",
     "output_type": "stream",
     "text": [
      "The final cost of the product is  306.0\n"
     ]
    }
   ],
   "source": [
    "Cost = int(input(\"Enter the cost of the product in rupees\"))\n",
    "discount = int(input(\"Enter the discount\"))\n",
    "Final_cost = Cost - (Cost * (discount/100))\n",
    "print(\"The final cost of the product is \", Final_cost)\n"
   ]
  },
  {
   "cell_type": "code",
   "execution_count": 65,
   "id": "0a5c71ec-5c84-411d-ae29-39025711e6f0",
   "metadata": {},
   "outputs": [],
   "source": [
    "##  Implement a program to determine whether a given number is even or odd"
   ]
  },
  {
   "cell_type": "code",
   "execution_count": 67,
   "id": "2d8ce7c8-12fd-46e6-9ea3-86c8c0ec1ae4",
   "metadata": {},
   "outputs": [
    {
     "name": "stdin",
     "output_type": "stream",
     "text": [
      "Enter the number 23\n"
     ]
    },
    {
     "name": "stdout",
     "output_type": "stream",
     "text": [
      "Number is odd\n"
     ]
    }
   ],
   "source": [
    "Number = int(input(\"Enter the number\"))\n",
    "if Number%2==0:\n",
    "    print(\"Number is even\")\n",
    "else:\n",
    "    print(\"Number is odd\")"
   ]
  },
  {
   "cell_type": "markdown",
   "id": "fef16a14-16b3-43c0-8ff5-b147e8ad2ed8",
   "metadata": {},
   "source": [
    "Intermediate Level"
   ]
  },
  {
   "cell_type": "code",
   "execution_count": 68,
   "id": "5b64063e-6d8d-42ee-a777-d3f98b23ff75",
   "metadata": {},
   "outputs": [],
   "source": [
    "## Write a program that calculates the roots of a quadratic equation ."
   ]
  },
  {
   "cell_type": "code",
   "execution_count": 69,
   "id": "2515ecaf-6363-4d03-be6e-ad038f21f6e4",
   "metadata": {},
   "outputs": [],
   "source": [
    "## ax**2 + bx + c = 0, D = b**2-4ac, Alpha = (-b+D)/2a, beta = (-b-d)/2a"
   ]
  },
  {
   "cell_type": "code",
   "execution_count": 82,
   "id": "f073cf95-5b18-4b37-bc8b-efbe494f20a3",
   "metadata": {},
   "outputs": [
    {
     "name": "stdin",
     "output_type": "stream",
     "text": [
      "Enter the first cofficient 5\n",
      "Enter the second cofficient 20\n",
      "Enter the third cofficinet 10\n"
     ]
    },
    {
     "name": "stdout",
     "output_type": "stream",
     "text": [
      "-0.5857864376269049\n",
      "-3.414213562373095\n"
     ]
    }
   ],
   "source": [
    "a = int(input(\"Enter the first cofficient\"))\n",
    "b = int(input(\"Enter the second cofficient\"))\n",
    "c = int(input(\"Enter the third cofficinet\"))\n",
    "\n",
    "D = b**2 - 4*a*c ## Discrement \n",
    "\n",
    "x1 = (((-b) + D**0.5)/(2*a))     \n",
    "x2 = (((-b) - D**0.5)/(2*a))\n",
    "print(x1)\n",
    "print(x2)"
   ]
  },
  {
   "cell_type": "code",
   "execution_count": 1,
   "id": "3ceda4a4-ba5d-45b7-aad6-27d281a254c5",
   "metadata": {},
   "outputs": [],
   "source": [
    "## Create a program that determines the day of the week based on the day number (1-7).\n"
   ]
  },
  {
   "cell_type": "code",
   "execution_count": 3,
   "id": "a6af6227-682d-436f-b69e-3eb5324a80c8",
   "metadata": {},
   "outputs": [
    {
     "name": "stdin",
     "output_type": "stream",
     "text": [
      "Enter the day number 12\n"
     ]
    },
    {
     "name": "stdout",
     "output_type": "stream",
     "text": [
      "This day is not come between Monday and Sunday\n"
     ]
    }
   ],
   "source": [
    "Day_Number = int(input(\"Enter the day number\"))\n",
    "if Day_Number == 1:\n",
    "    print(\"It is Monday\")\n",
    "elif Day_Number == 2:\n",
    "    print(\"It is Tuesday\")\n",
    "elif Day_Number == 3:\n",
    "    print(\"it is Wednesday\")\n",
    "elif Day_Number == 4:\n",
    "    print(\"it is Thrusday\")\n",
    "elif Day_Number == 5:\n",
    "    print(\"It is Friday\")\n",
    "elif Day_Number == 6:\n",
    "    print(\"It is Saturday\")\n",
    "elif  Day_Number == 7:\n",
    "    print(\"It is Sunday\")\n",
    "else:\n",
    "    print(\"This day is not come between Monday and Sunday\")"
   ]
  },
  {
   "cell_type": "code",
   "execution_count": 4,
   "id": "7746049e-ca52-40a4-8071-60c7d8a3ae2b",
   "metadata": {},
   "outputs": [],
   "source": [
    "## Develop a program that calculates the factorial of a given number using recursion"
   ]
  },
  {
   "cell_type": "code",
   "execution_count": 8,
   "id": "8e7c82bd-5ef1-405f-824d-5ca13bb5d91b",
   "metadata": {},
   "outputs": [
    {
     "name": "stdin",
     "output_type": "stream",
     "text": [
      "Enter the number 0\n"
     ]
    },
    {
     "name": "stdout",
     "output_type": "stream",
     "text": [
      "The factorial of the given number is 1\n"
     ]
    }
   ],
   "source": [
    "def fact(n):\n",
    "    if (n==0 or n==1):\n",
    "        return 1\n",
    "    else:\n",
    "        return (n*fact(n-1))\n",
    "\n",
    "num = int(input(\"Enter the number\"))\n",
    "Factorial = fact(num)\n",
    "print(\"The factorial of the given number is\", Factorial)\n",
    "    "
   ]
  },
  {
   "cell_type": "code",
   "execution_count": 9,
   "id": "c423563c-59b2-4c9e-b182-1fc12ac85070",
   "metadata": {},
   "outputs": [],
   "source": [
    "## 14. Write a program to find the largest among three numbers without using the `max()` function.\n"
   ]
  },
  {
   "cell_type": "code",
   "execution_count": 11,
   "id": "c589ae65-e17d-4fd7-b901-4879a8563b77",
   "metadata": {},
   "outputs": [
    {
     "name": "stdin",
     "output_type": "stream",
     "text": [
      "Enter the first number 3\n",
      "Enter the second number 5\n",
      "Enter the Third number 7\n"
     ]
    },
    {
     "name": "stdout",
     "output_type": "stream",
     "text": [
      "Third number is greater\n"
     ]
    }
   ],
   "source": [
    "First_Num = int(input(\"Enter the first number\"))\n",
    "Second_Num = int(input(\"Enter the second number\"))\n",
    "Third_Num = int(input(\"Enter the Third number\"))\n",
    "if (First_Num > Second_Num) and (First_Num > Third_Num):\n",
    "    print(\"First number is greater\")\n",
    "elif (Second_Num > First_Num) and (Second_Num > Third_Num):\n",
    "    print(\"Second number is greater\")\n",
    "else:\n",
    "    print(\"Third number is greater\")\n",
    "\n"
   ]
  },
  {
   "cell_type": "code",
   "execution_count": 13,
   "id": "49b9d49c-4d0e-4f4a-ab90-01caec92b0a3",
   "metadata": {},
   "outputs": [],
   "source": [
    "## Create a program that simulates a basic ATM transaction menu.\n",
    "\n",
    "## Display Balance, Withdraw, Deposit, Exit\n"
   ]
  },
  {
   "cell_type": "code",
   "execution_count": 29,
   "id": "6ae4602d-74c9-48e2-b41f-2030a1e0054f",
   "metadata": {},
   "outputs": [
    {
     "name": "stdin",
     "output_type": "stream",
     "text": [
      "Enter the balance in account 1000000\n",
      "enter the option 3\n",
      "Enter the amount to deposit 20000\n"
     ]
    },
    {
     "name": "stdout",
     "output_type": "stream",
     "text": [
      " Deposit amount is 20000.0\n",
      "The Balance in account in 1020000.0\n"
     ]
    }
   ],
   "source": [
    "Account_Balance = float(input(\"Enter the balance in account\"))\n",
    "\n",
    "def Display_Balance(): ## Function for disply baalance\n",
    "    print(\"The Balance in account in\", Account_Balance)\n",
    "\n",
    "def Withdraw(): ## Function for Withdrawn amount\n",
    "    global Account_Balance\n",
    "    amount = float(input(\"Enter the amount to withdram\"))\n",
    "    if amount > Account_Balance:\n",
    "         print(\"Insufficient funds\")\n",
    "    else:\n",
    "         Account_Balance = Account_Balance - amount\n",
    "         print(\"Withdraw amount is\", amount)\n",
    "         Display_Balance()\n",
    "\n",
    "def deposit(): ## Function for deposit\n",
    "    global Account_Balance\n",
    "    Deposit_Amount = float(input(\"Enter the amount to deposit\"))\n",
    "    if Deposit_Amount <= 0:\n",
    "        print(\"Invalid Funds\")\n",
    "    else:\n",
    "        Account_Balance = Account_Balance + Deposit_Amount\n",
    "        print(\" Deposit amount is\", Deposit_Amount)\n",
    "        Display_Balance()\n",
    "        \n",
    "option = int(input(\"enter the option\"))\n",
    "\n",
    "if option == 1:\n",
    "      Display_Balance()\n",
    "elif option == 2:\n",
    "     Withdraw()\n",
    "elif option == 3:\n",
    "    deposit()\n",
    "elif option == 4:\n",
    "    print(\"thanks for using ATM\")\n",
    "else:\n",
    "    print(\"invalid Choice\")\n",
    "            \n",
    "\n",
    "                   \n",
    "\n",
    "                   \n",
    " \n",
    "                \n",
    "         \n",
    "        \n",
    "                \n",
    "                  \n",
    "   \n",
    "\n",
    "                   \n",
    "    \n",
    "\n"
   ]
  },
  {
   "cell_type": "code",
   "execution_count": 30,
   "id": "a0cebead-65ec-433a-9007-b155aab5dd2e",
   "metadata": {},
   "outputs": [],
   "source": [
    "## Build a program that checks if a given string is a palindrome or not.\n"
   ]
  },
  {
   "cell_type": "code",
   "execution_count": 37,
   "id": "62298895-d682-43ea-af59-bed5fed3a6d7",
   "metadata": {},
   "outputs": [
    {
     "name": "stdin",
     "output_type": "stream",
     "text": [
      "Enter the String radar\n"
     ]
    },
    {
     "name": "stdout",
     "output_type": "stream",
     "text": [
      "String is palindrome\n"
     ]
    }
   ],
   "source": [
    "New_Str = input(\"Enter the String\")\n",
    "Rev_str = New_Str[::-1]\n",
    "if New_Str == Rev_str:\n",
    "    print(\"String is palindrome\")\n",
    "else:\n",
    "    print(\"String is not Palindrome\")"
   ]
  },
  {
   "cell_type": "code",
   "execution_count": 6,
   "id": "7cb587eb-04de-4f58-9da7-304995f2fcba",
   "metadata": {},
   "outputs": [],
   "source": [
    "## Write a program that calculates the average of a list of numbers, excluding the smallest and largest values.\n"
   ]
  },
  {
   "cell_type": "code",
   "execution_count": 27,
   "id": "f55c92f7-bfc9-43c9-a55f-3037c95dec47",
   "metadata": {},
   "outputs": [
    {
     "name": "stdin",
     "output_type": "stream",
     "text": [
      "Enter the list of numbers seperated by spaces 1 2 3 45 67\n"
     ]
    },
    {
     "name": "stdout",
     "output_type": "stream",
     "text": [
      "The average of list of numbers is 16.666666666666668\n"
     ]
    }
   ],
   "source": [
    "Numbers_List = input(\"Enter the list of numbers seperated by spaces\").split() ## Get a list as input from the user\n",
    "Numbers = [int(i) for i in Numbers_List] ## Convert the list of strings into a list of integers\n",
    "\n",
    "Numbers.remove(min(Numbers)) ## remove the smallest\n",
    "Numbers.remove(max(Numbers)) ## remove the largest\n",
    "\n",
    "Average  = sum(Numbers) / len(Numbers)\n",
    "print(\"The average of list of numbers is\", Average)\n"
   ]
  },
  {
   "cell_type": "code",
   "execution_count": 28,
   "id": "62165f76-9665-42a6-a66f-9bb4c3754bea",
   "metadata": {},
   "outputs": [],
   "source": [
    "## Develop a program that converts a given temperature from Celsius to Fahrenheit.\n"
   ]
  },
  {
   "cell_type": "code",
   "execution_count": 30,
   "id": "b8bb86c2-9b41-4008-a381-ba2e5c93ba55",
   "metadata": {},
   "outputs": [
    {
     "name": "stdin",
     "output_type": "stream",
     "text": [
      "Enter the temperature in Celcius 34\n"
     ]
    },
    {
     "name": "stdout",
     "output_type": "stream",
     "text": [
      "The Temp in Fahrenheit is 93.2\n"
     ]
    }
   ],
   "source": [
    "Temp_Celsius = float(input(\"Enter the temperature in Celcius\"))\n",
    "\n",
    "Temp_Fahrenheit = (Temp_Celsius * 9/5) + 32\n",
    "\n",
    "print(\"The Temp in Fahrenheit is\" , Temp_Fahrenheit)"
   ]
  },
  {
   "cell_type": "code",
   "execution_count": 31,
   "id": "620d48f2-3cf1-4cec-ab79-f4ef9efaa6a1",
   "metadata": {},
   "outputs": [],
   "source": [
    "## Create a program that simulates a basic calculator for addition, subtraction, multiplication, and division"
   ]
  },
  {
   "cell_type": "code",
   "execution_count": 41,
   "id": "dea4926e-eb06-4e86-b6d6-a93e996b2a32",
   "metadata": {},
   "outputs": [
    {
     "name": "stdin",
     "output_type": "stream",
     "text": [
      "Enter the first number 2\n",
      "Enter the second number 2\n",
      "Enter the choice 3\n"
     ]
    },
    {
     "name": "stdout",
     "output_type": "stream",
     "text": [
      "The multiplication of the number is 4.0\n"
     ]
    }
   ],
   "source": [
    "First_Num = float(input(\"Enter the first number\"))\n",
    "Second_Num = float(input(\"Enter the second number\"))\n",
    "\n",
    "Choice = int(input(\"Enter the choice\"))\n",
    "\n",
    "if Choice == 1:\n",
    "    print(\"The addition of the numbers is\" , First_Num + Second_Num)\n",
    "elif Choice == 2:\n",
    "    print(\"The subtraction of the numbers is\" , First_Num - Second_Num)\n",
    "elif Choice == 3:\n",
    "    print(\"The multiplication of the number is\", First_Num * Second_Num)\n",
    "elif Choice == 4:\n",
    "    print(\"The division of the number is \", First_Num / Second_Num)\n",
    "    \n",
    "\n",
    "else:\n",
    "    print(\"Invalid choice\")"
   ]
  },
  {
   "cell_type": "code",
   "execution_count": 42,
   "id": "a87ed8e6-bceb-474c-9cca-646d4ccafb01",
   "metadata": {},
   "outputs": [],
   "source": [
    "## Write a program that determines the roots of a cubic equation using the Cardano formula.\n"
   ]
  },
  {
   "cell_type": "code",
   "execution_count": 43,
   "id": "912152e7-b157-45f8-b868-d8c516794061",
   "metadata": {},
   "outputs": [
    {
     "name": "stdin",
     "output_type": "stream",
     "text": [
      "Enter the coefficient a:  2\n",
      "Enter the coefficient b:  3\n",
      "Enter the coefficient c:  4\n",
      "Enter the coefficient d:  5\n"
     ]
    },
    {
     "name": "stdout",
     "output_type": "stream",
     "text": [
      "The roots of the cubic equation are:\n",
      "Root 1: (1.0988526844951965+1.1791052453528603j)\n",
      "Root 2: (-0.12032109689473791-0.3522133997959812j)\n",
      "Root 3: (-2.4785315876004583-0.8268918455568791j)\n"
     ]
    }
   ],
   "source": [
    "import cmath\n",
    "\n",
    "# Coefficients of the cubic equation ax^3 + bx^2 + cx + d = 0\n",
    "a = float(input(\"Enter the coefficient a: \"))\n",
    "b = float(input(\"Enter the coefficient b: \"))\n",
    "c = float(input(\"Enter the coefficient c: \"))\n",
    "d = float(input(\"Enter the coefficient d: \"))\n",
    "\n",
    "# Calculate q and r\n",
    "q = (3*a*c - b**2) / (3*a**2)\n",
    "r = (9*a*b*c - 27*a**2*d - 2*b**3) / (27*a**3)\n",
    "\n",
    "# Calculate the discriminant\n",
    "discriminant = q**3 + (r/2)**2\n",
    "\n",
    "# Check the nature of the roots and calculate them accordingly\n",
    "if discriminant > 0:\n",
    "    # Three real roots\n",
    "    s = (r/2 + cmath.sqrt(discriminant))**(1/3)\n",
    "    t = (r/2 - cmath.sqrt(discriminant))**(1/3)\n",
    "    root1 = -b / (3*a) + s + t\n",
    "    root2 = -1/2 * (s + t) - (b / (3*a)) + (s - t) * 1j\n",
    "    root3 = -1/2 * (s + t) - (b / (3*a)) - (s - t) * 1j\n",
    "\n",
    "    print(\"The roots of the cubic equation are:\")\n",
    "    print(\"Root 1:\", root1)\n",
    "    print(\"Root 2:\", root2)\n",
    "    print(\"Root 3:\", root3)\n",
    "\n",
    "elif discriminant == 0:\n",
    "    # One real root, two complex roots\n",
    "    s = (r/2)**(1/3)\n",
    "    root1 = -b / (3*a) + 2*s\n",
    "    root2 = -1/2 * s - (b / (3*a)) + (s * cmath.sqrt(3)) * 1j\n",
    "    root3 = -1/2 * s - (b / (3*a)) - (s * cmath.sqrt(3)) * 1j\n",
    "\n",
    "    print(\"The roots of the cubic equation are:\")\n",
    "    print(\"Root 1:\", root1)\n",
    "    print(\"Root 2:\", root2)\n",
    "    print(\"Root 3:\", root3)\n",
    "\n",
    "else:\n",
    "    # One real root, two complex roots\n",
    "    rho = cmath.sqrt((q**3).real)\n",
    "    theta = cmath.acos(-(r/(2*rho)))\n",
    "    s = (rho**(1/3)) * cmath.exp(1j * theta / 3)\n",
    "    root1 = -b / (3*a) + 2*s\n",
    "    root2 = -1/2 * s - (b / (3*a)) + (s * cmath.sqrt(3)) * 1j\n",
    "    root3 = -1/2 * s - (b / (3*a)) - (s * cmath.sqrt(3)) * 1j\n",
    "\n",
    "    print(\"The roots of the cubic equation are:\")\n",
    "    print(\"Root 1:\", root1)\n",
    "    print(\"Root 2:\", root2)\n",
    "    print(\"Root 3:\", root3)\n"
   ]
  },
  {
   "cell_type": "code",
   "execution_count": 1,
   "id": "e35c439c-eb8c-4025-a03f-6d8a8f77ac55",
   "metadata": {},
   "outputs": [],
   "source": [
    "## 20. Write a program that determines the roots of a cubic equation using the Cardano formula.\n"
   ]
  },
  {
   "cell_type": "code",
   "execution_count": 2,
   "id": "cc098662-fd86-429b-ade5-34bb024f606c",
   "metadata": {},
   "outputs": [
    {
     "name": "stdin",
     "output_type": "stream",
     "text": [
      "Enter the coefficient of x^3:  2\n",
      "Enter the coefficient of x^2:  3\n",
      "Enter the coefficient of x:  4\n",
      "Enter the constant term:  5\n"
     ]
    },
    {
     "name": "stdout",
     "output_type": "stream",
     "text": [
      "Roots of the cubic equation:\n",
      "(-1.8858448828192937-0.29716827547015373j)\n"
     ]
    }
   ],
   "source": [
    "import math\n",
    "\n",
    "def cubic_roots(a, b, c, d):\n",
    "    # Calculate discriminant and some intermediate values\n",
    "    p = (3 * a * c - b**2) / (3 * a**2)\n",
    "    q = (2 * b**3 - 9 * a * b * c + 27 * a**2 * d) / (27 * a**3)\n",
    "    delta = q**2/4 + p**3/27\n",
    "    \n",
    "    if delta > 0:\n",
    "        # Case 1: Three real roots\n",
    "        root1 = -1 * (q/2 + math.sqrt(delta))**(1/3) - (q/2 - math.sqrt(delta))**(1/3) - b / (3 * a)\n",
    "        return [root1]\n",
    "    elif delta == 0:\n",
    "        # Case 2: Three real roots, two of them are equal\n",
    "        root1 = -2 * (q/2)**(1/3) - b / (3 * a)\n",
    "        root2 = (q/2)**(1/3) - b / (3 * a)\n",
    "        return [root1, root2]\n",
    "    else:\n",
    "        # Case 3: One real root, two complex roots\n",
    "        r = math.sqrt(-(p**3) / 27)\n",
    "        theta = math.acos(-q / (2 * r))\n",
    "        root1 = 2 * math.sqrt(-p / 3) * math.cos(theta / 3) - b / (3 * a)\n",
    "        return [root1]\n",
    "\n",
    "# Input coefficients of the cubic equation\n",
    "a = float(input(\"Enter the coefficient of x^3: \"))\n",
    "b = float(input(\"Enter the coefficient of x^2: \"))\n",
    "c = float(input(\"Enter the coefficient of x: \"))\n",
    "d = float(input(\"Enter the constant term: \"))\n",
    "\n",
    "# Calculate and print the roots\n",
    "roots = cubic_roots(a, b, c, d)\n",
    "print(\"Roots of the cubic equation:\")\n",
    "for root in roots:\n",
    "    print(root)\n"
   ]
  },
  {
   "cell_type": "markdown",
   "id": "49e7132e-18d4-4280-83ac-856b43e33d71",
   "metadata": {},
   "source": [
    "Advanced Level"
   ]
  },
  {
   "cell_type": "code",
   "execution_count": 3,
   "id": "a8e48a86-e1af-498e-b1e3-48ab5ba03ba8",
   "metadata": {},
   "outputs": [],
   "source": [
    "## Create a program that calculates the income tax based on the user's income and tax brackets"
   ]
  },
  {
   "cell_type": "code",
   "execution_count": 28,
   "id": "fcfc7652-d9a0-4722-a9cf-bf022cce6af5",
   "metadata": {},
   "outputs": [
    {
     "name": "stdin",
     "output_type": "stream",
     "text": [
      "Enter your annual income in INR:  560000\n"
     ]
    },
    {
     "name": "stdout",
     "output_type": "stream",
     "text": [
      "Your income tax for FY 2022-23 (AY 2023-24) is: 26000.00 INR\n"
     ]
    }
   ],
   "source": [
    "# Function to calculate income tax as per Indian tax rules\n",
    "def calculate_income_tax(income):\n",
    "    # Define income slabs and their corresponding tax rates for FY 2021-22 (AY 2022-23)\n",
    "    slabs = [(300000, 5), (500000, 20), (1000000, 30)]\n",
    "    \n",
    "    # Define surcharge and cess rates\n",
    "    surcharge_rate = 0  # 0% surcharge for individuals\n",
    "    cess_rate = 4       # 4% health and education cess\n",
    "    \n",
    "    # Initialize the tax amount\n",
    "    tax = 0\n",
    "    \n",
    "    # Calculate tax based on income slabs\n",
    "    for slab in slabs:\n",
    "        slab_limit, slab_rate = slab\n",
    "        if income > slab_limit:\n",
    "            taxable_amount = min(income - slab_limit, slab_limit) \n",
    "            tax += (taxable_amount * slab_rate) / 100\n",
    "    \n",
    "    # Calculate surcharge (if applicable)\n",
    "    if income > 10000000:  # Surcharge applies if income is more than 10 lakhs\n",
    "        surcharge = (tax * surcharge_rate) / 100\n",
    "        tax += surcharge\n",
    "    \n",
    "    # Calculate health and education cess\n",
    "    cess = (tax * cess_rate) / 100\n",
    "    \n",
    "    # Total income tax\n",
    "    total_tax = tax + cess\n",
    "    \n",
    "    return total_tax\n",
    "\n",
    "# Input the income\n",
    "income = float(input(\"Enter your annual income in INR: \"))\n",
    "\n",
    "# Calculate and print the income tax\n",
    "income_tax = calculate_income_tax(income)\n",
    "print(f\"Your income tax for FY 2022-23 (AY 2023-24) is: {income_tax:.2f} INR\")\n"
   ]
  },
  {
   "cell_type": "code",
   "execution_count": 29,
   "id": "c5f907e7-4456-4ff2-9deb-f4fc48c64dc9",
   "metadata": {},
   "outputs": [],
   "source": [
    "## Write a program that simulates a rock-paper-scissors game against the computer.\n"
   ]
  },
  {
   "cell_type": "code",
   "execution_count": 31,
   "id": "f5014aa3-0087-4723-a0f1-358069eae641",
   "metadata": {},
   "outputs": [
    {
     "data": {
      "text/plain": [
       "'Rules:\\n\\nRock beats scissors\\nScissors beats paper\\nPaper beats rock\\nIf both players choose the same, it is a tie\\nHow to play:\\n\\nChoose between rock, paper, and scissors.\\nThe computer will also choose between rock, paper, and scissors.\\nThe player with the winning choice wins the round.\\nThe first player to win 3 rounds wins the game.'"
      ]
     },
     "execution_count": 31,
     "metadata": {},
     "output_type": "execute_result"
    }
   ],
   "source": [
    "\"\"\"Rules:\n",
    "\n",
    "Rock beats scissors\n",
    "Scissors beats paper\n",
    "Paper beats rock\n",
    "If both players choose the same, it is a tie\n",
    "How to play:\n",
    "\n",
    "Choose between rock, paper, and scissors.\n",
    "The computer will also choose between rock, paper, and scissors.\n",
    "The player with the winning choice wins the round.\n",
    "The first player to win 3 rounds wins the game.\"\"\""
   ]
  },
  {
   "cell_type": "code",
   "execution_count": 8,
   "id": "ed9261cd-45cc-424a-a599-199350a720f9",
   "metadata": {},
   "outputs": [
    {
     "name": "stdin",
     "output_type": "stream",
     "text": [
      "Enter the player choice from rock-paper-scissors rock\n"
     ]
    },
    {
     "name": "stdout",
     "output_type": "stream",
     "text": [
      "Player choice is rock\n",
      "Computer choice is Paper\n",
      "the winner of the game is Computer\n"
     ]
    }
   ],
   "source": [
    "import random\n",
    "\n",
    "def rock_paper_scissors():\n",
    "    \n",
    "    Player_Choice = input(\"Enter the player choice from rock-paper-scissors\")\n",
    "    Computer_Choice = random.choice([\"rock\", \"scissors\", \"paper\"])\n",
    "    \n",
    "    ## Determine the winner\n",
    "    if Player_Choice == Computer_Choice:\n",
    "        winner = \"tie\"\n",
    "    elif Player_Choice == \"rock\" and Computer_Choice == \"scissors\":\n",
    "        winner = \"Player\"\n",
    "    elif Player_Choice == \"scissors\" and Computer_Choice == \"rock\":\n",
    "        winner = \"Player\"\n",
    "    elif Player_Choice == \"paper\" and Computer_Choice == \"rock\":\n",
    "        winner = \"Player\"\n",
    "    else:\n",
    "        winner = \"Computer\"\n",
    "    \n",
    "    \n",
    "    print(\"Player choice is\",  Player_Choice)\n",
    "    print(\"Computer choice is\", Computer_Choice)\n",
    "    print(\"the winner of the game is\", winner)\n",
    "\n",
    "\n",
    "rock_paper_scissors()\n",
    "\n",
    "    \n",
    "    \n",
    "    \n",
    "    \n",
    "    \n"
   ]
  },
  {
   "cell_type": "code",
   "execution_count": 9,
   "id": "d02ab15b-64bb-4594-8e2b-6b4bd8dc25d3",
   "metadata": {},
   "outputs": [],
   "source": [
    "## Develop a program that generates a random password based on user preferences"
   ]
  },
  {
   "cell_type": "code",
   "execution_count": null,
   "id": "90ada331-5c2e-47af-985b-431f6660e01b",
   "metadata": {},
   "outputs": [
    {
     "name": "stdin",
     "output_type": "stream",
     "text": [
      "Enter the user choice A23\n"
     ]
    },
    {
     "name": "stdout",
     "output_type": "stream",
     "text": [
      "the generated password is A23\n"
     ]
    }
   ],
   "source": [
    "import random\n",
    "\n",
    "def random_password():\n",
    "    \n",
    "    User_Choice = input(\"Enter the user choice\").split()\n",
    "    password = random.choice(User_Choice)\n",
    "    \n",
    "    print(\"the generated password is\", password)\n",
    "\n",
    "\n",
    "random_password()\n",
    "    \n",
    "    \n",
    "    \n"
   ]
  },
  {
   "cell_type": "code",
   "execution_count": 13,
   "id": "d2065737-87e7-4e8d-94d8-9717d351568e",
   "metadata": {},
   "outputs": [
    {
     "name": "stdin",
     "output_type": "stream",
     "text": [
      "Enter the desired length of the password:  5\n",
      "Include uppercase letters? (y/n):  n\n",
      "Include lowercase letters? (y/n):  y\n",
      "Include numbers? (y/n):  n\n",
      "Include symbols? (y/n):  y\n"
     ]
    },
    {
     "name": "stdout",
     "output_type": "stream",
     "text": [
      "Your password is: r#<}r\n"
     ]
    }
   ],
   "source": [
    "import random\n",
    "\n",
    "def generate_password(length=12, include_upper=True, include_lower=True, include_numbers=True, include_symbols=True):\n",
    "  \n",
    "\n",
    "  # Create a list of all possible characters.\n",
    "  possible_characters = []\n",
    "  if include_upper:\n",
    "    possible_characters.extend(list(\"ABCDEFGHIJKLMNOPQRSTUVWXYZ\"))\n",
    "  if include_lower:\n",
    "    possible_characters.extend(list(\"abcdefghijklmnopqrstuvwxyz\"))\n",
    "  if include_numbers:\n",
    "    possible_characters.extend(list(\"0123456789\"))\n",
    "  if include_symbols:\n",
    "    possible_characters.extend(list(\"!@#$%^&*()_-+={}[]|\\\\;:'<>,.?/\"))\n",
    "\n",
    "  # Generate a random password.\n",
    "  password = \"\"\n",
    "  for i in range(length):\n",
    "    password += random.choice(possible_characters)\n",
    "\n",
    "  return password\n",
    "\n",
    "# Get the user's preferences.\n",
    "length = int(input(\"Enter the desired length of the password: \"))\n",
    "include_upper = input(\"Include uppercase letters? (y/n): \") == \"y\"\n",
    "include_lower = input(\"Include lowercase letters? (y/n): \") == \"y\"\n",
    "include_numbers = input(\"Include numbers? (y/n): \") == \"y\"\n",
    "include_symbols = input(\"Include symbols? (y/n): \") == \"y\"\n",
    "\n",
    "# Generate a random password based on the user's preferences.\n",
    "password = generate_password(length, include_upper, include_lower, include_numbers, include_symbols)\n",
    "\n",
    "# Print the password.\n",
    "print(\"Your password is:\", password)"
   ]
  },
  {
   "cell_type": "code",
   "execution_count": 1,
   "id": "ce0d98d2-38f7-416c-a421-2a26ceceaf05",
   "metadata": {},
   "outputs": [],
   "source": [
    "## Build a program that solves a linear equation for x, considering different cases.\n",
    "## ax + b = 0"
   ]
  },
  {
   "cell_type": "code",
   "execution_count": 8,
   "id": "a289aea4-e21d-4964-9c14-ceae796e32a1",
   "metadata": {},
   "outputs": [
    {
     "name": "stdin",
     "output_type": "stream",
     "text": [
      "Enter the first cofficinet 0\n",
      "Enter the second cofficinet 2\n"
     ]
    },
    {
     "name": "stdout",
     "output_type": "stream",
     "text": [
      "No solutions\n"
     ]
    }
   ],
   "source": [
    "a = float(input(\"Enter the first cofficinet\"))\n",
    "b = float(input(\"Enter the second cofficinet\"))\n",
    "\n",
    "if a == 0:\n",
    "    if b == 0:\n",
    "        print(\"infinite many solutions\")\n",
    "    else:\n",
    "        print(\"No solutions\")\n",
    "else:\n",
    "    x = -b/a\n",
    "    print(x)\n",
    "    \n"
   ]
  },
  {
   "cell_type": "code",
   "execution_count": 3,
   "id": "fc81cf76-8450-47e3-bc9d-e51473febf1b",
   "metadata": {},
   "outputs": [
    {
     "data": {
      "text/plain": [
       "-2.0"
      ]
     },
     "execution_count": 3,
     "metadata": {},
     "output_type": "execute_result"
    }
   ],
   "source": [
    "solve_linear_equation(2,4)"
   ]
  },
  {
   "cell_type": "code",
   "execution_count": 4,
   "id": "72d11b21-0485-4214-a024-7b9552b1c190",
   "metadata": {},
   "outputs": [],
   "source": [
    "## Develop a program that determines whether a given year is a prime number or not."
   ]
  },
  {
   "cell_type": "code",
   "execution_count": 12,
   "id": "1fcc3dbd-fafb-4503-9388-e3a5173110c6",
   "metadata": {},
   "outputs": [
    {
     "name": "stdin",
     "output_type": "stream",
     "text": [
      "Enter the year 2005\n"
     ]
    },
    {
     "name": "stdout",
     "output_type": "stream",
     "text": [
      "2005 is not a prime year\n"
     ]
    }
   ],
   "source": [
    "def Prime_Year(year):\n",
    "    if year <= 1:\n",
    "        print(\"Year is not prime year\")\n",
    "   \n",
    "    for i in range(2, year):\n",
    "        if year%i == 0:\n",
    "            return False\n",
    "    else:\n",
    "        return True\n",
    "    \n",
    "year = int(input(\"Enter the year\"))\n",
    "\n",
    "if Prime_Year(year):\n",
    "    print(f\"{year} is a prime year\")\n",
    "else:\n",
    "    print(f\"{year} is not a prime year\")\n",
    "\n",
    "        "
   ]
  },
  {
   "cell_type": "code",
   "execution_count": 9,
   "id": "4057161e-ca0f-49aa-ab19-f95b09e281df",
   "metadata": {},
   "outputs": [],
   "source": [
    "## Create a program that sorts three numbers in ascending order using conditional statements."
   ]
  },
  {
   "cell_type": "code",
   "execution_count": 28,
   "id": "755aa72a-ef91-49be-8061-ffdb7626ede4",
   "metadata": {},
   "outputs": [
    {
     "name": "stdin",
     "output_type": "stream",
     "text": [
      "Enter the first number 23\n",
      "Enter the second number 21\n",
      "Enter the third number 34\n"
     ]
    },
    {
     "name": "stdout",
     "output_type": "stream",
     "text": [
      "the sorted numbers list is in ascending order is [21.0, 23.0, 34.0]\n"
     ]
    }
   ],
   "source": [
    "Num1 = float(input(\"Enter the first number\"))\n",
    "Num2 = float(input(\"Enter the second number\"))\n",
    "Num3 = float(input(\"Enter the third number\"))\n",
    "\n",
    "Numbers_List = [Num1, Num2, Num3]\n",
    "for i in Numbers_List:\n",
    "    Numbers_List.sort()\n",
    "print(\"the sorted numbers list is in ascending order is\", Numbers_List)\n",
    "    \n",
    "    \n",
    "\n"
   ]
  },
  {
   "cell_type": "code",
   "execution_count": 3,
   "id": "0ad3c07c-0e2f-47f8-a3ec-574b7bd6b8f8",
   "metadata": {},
   "outputs": [
    {
     "data": {
      "text/plain": [
       "\"Write a program that calculates the BMI (Body Mass Index) and provides health recommendations based\\non the user's input.\\n\""
      ]
     },
     "execution_count": 3,
     "metadata": {},
     "output_type": "execute_result"
    }
   ],
   "source": [
    "'''Write a program that calculates the BMI (Body Mass Index) and provides health recommendations based\n",
    "on the user's input.\n",
    "'''\n"
   ]
  },
  {
   "cell_type": "code",
   "execution_count": 6,
   "id": "ad702cea-7e74-4c2f-8e61-028704dda78f",
   "metadata": {},
   "outputs": [
    {
     "name": "stdin",
     "output_type": "stream",
     "text": [
      "Enter the weight in kilograms 74\n",
      "Enter the height in meters 1.70\n"
     ]
    },
    {
     "name": "stdout",
     "output_type": "stream",
     "text": [
      "overweight range\n"
     ]
    }
   ],
   "source": [
    "weight = float(input(\"Enter the weight in kilograms\"))\n",
    "height = float(input(\"Enter the height in meters\"))\n",
    "BMI = weight / (height * height)\n",
    "\n",
    "if BMI < 18.5:\n",
    "    print(\"underweight range\")\n",
    "elif BMI >= 18.5 and BMI < 24.9:\n",
    "    print(\"healthy weight range\")\n",
    "elif BMI >= 25 and BMI < 29.9:\n",
    "    print(\"overweight range\")\n",
    "elif BMI >= 30:\n",
    "    print(\"obese range\")\n",
    "else:\n",
    "    print(\"Severe range\")\n",
    "    \n"
   ]
  },
  {
   "cell_type": "code",
   "execution_count": null,
   "id": "2c73149a-fe01-4661-8c9c-dcd07b8806b4",
   "metadata": {},
   "outputs": [],
   "source": []
  }
 ],
 "metadata": {
  "kernelspec": {
   "display_name": "Python 3 (ipykernel)",
   "language": "python",
   "name": "python3"
  },
  "language_info": {
   "codemirror_mode": {
    "name": "ipython",
    "version": 3
   },
   "file_extension": ".py",
   "mimetype": "text/x-python",
   "name": "python",
   "nbconvert_exporter": "python",
   "pygments_lexer": "ipython3",
   "version": "3.10.8"
  }
 },
 "nbformat": 4,
 "nbformat_minor": 5
}
